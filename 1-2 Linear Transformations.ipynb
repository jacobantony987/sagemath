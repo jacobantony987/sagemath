{
 "cells": [
  {
   "cell_type": "markdown",
   "metadata": {},
   "source": [
    "# Linear Algebra"
   ]
  },
  {
   "cell_type": "markdown",
   "metadata": {},
   "source": [
    "## 1-2 Linear Transformations"
   ]
  },
  {
   "cell_type": "markdown",
   "metadata": {},
   "source": [
    "$T : \\mathbb{R}^3 \\to \\mathbb{R}^3$ defined by $T(x_1,x_2,x_3) = (x_1-x_2,x_2+x_3,x_3-3x_1)$"
   ]
  },
  {
   "cell_type": "markdown",
   "metadata": {},
   "source": [
    "### 1-2-1 Defining Linear Transformations"
   ]
  },
  {
   "cell_type": "code",
   "execution_count": 80,
   "metadata": {},
   "outputs": [
    {
     "data": {
      "text/plain": [
       "Vector space morphism represented by the matrix:\n",
       "[ 1.00000000000000 -1.00000000000000 0.000000000000000]\n",
       "[0.000000000000000  1.00000000000000  1.00000000000000]\n",
       "[-3.00000000000000 0.000000000000000  1.00000000000000]\n",
       "Domain: Vector space of dimension 3 over Real Field with 53 bits of precision\n",
       "Codomain: Vector space of dimension 3 over Real Field with 53 bits of precision"
      ]
     },
     "execution_count": 80,
     "metadata": {},
     "output_type": "execute_result"
    }
   ],
   "source": [
    "F = RR;\n",
    "x1 = vector(F,[1,0,0]);\n",
    "x2 = vector(F,[0,1,0]);\n",
    "x3 = vector(F,[0,0,1]);\n",
    "T = linear_transformation(F^3,F^3,[x1-x2,x2+x3,x3-3*x1]);T"
   ]
  },
  {
   "cell_type": "markdown",
   "metadata": {},
   "source": [
    "Computing $T(1,2,3)$"
   ]
  },
  {
   "cell_type": "code",
   "execution_count": 73,
   "metadata": {},
   "outputs": [
    {
     "data": {
      "text/plain": [
       "(-8.00000000000000, 1.00000000000000, 5.00000000000000)"
      ]
     },
     "execution_count": 73,
     "metadata": {},
     "output_type": "execute_result"
    }
   ],
   "source": [
    "T([1,2,3])"
   ]
  },
  {
   "cell_type": "code",
   "execution_count": 75,
   "metadata": {},
   "outputs": [
    {
     "data": {
      "text/plain": [
       "(-8.00000000000000, 1.00000000000000, 5.00000000000000)"
      ]
     },
     "execution_count": 75,
     "metadata": {},
     "output_type": "execute_result"
    }
   ],
   "source": [
    "y = vector([1,2,3]); \n",
    "T(y)"
   ]
  },
  {
   "cell_type": "markdown",
   "metadata": {},
   "source": [
    "#### Problem 1"
   ]
  },
  {
   "cell_type": "markdown",
   "metadata": {},
   "source": [
    "Hoffman, Kenneth $\\S 3.1$ Exercise $7$, (pp. $73$) <br/>\n",
    "$T(x_1,x_2,x_3) = (x_1-x_2+2x_3,2x_1+x_2,-x_1-2x_2+2x_3)$"
   ]
  },
  {
   "cell_type": "code",
   "execution_count": null,
   "metadata": {},
   "outputs": [],
   "source": [
    "T = linear_transformation(F^3,F^3,[?]); T"
   ]
  },
  {
   "cell_type": "code",
   "execution_count": 66,
   "metadata": {},
   "outputs": [
    {
     "data": {
      "text/plain": [
       "Vector space morphism represented by the matrix:\n",
       "[ 1.00000000000000 0.000000000000000]\n",
       "[ 3.00000000000000  1.00000000000000]\n",
       "[0.000000000000000 -2.00000000000000]\n",
       "Domain: Vector space of dimension 3 over Real Field with 53 bits of precision\n",
       "Codomain: Vector space of dimension 2 over Real Field with 53 bits of precision"
      ]
     },
     "execution_count": 66,
     "metadata": {},
     "output_type": "execute_result"
    }
   ],
   "source": [
    "x, y, z = var('x y z');\n",
    "s(x,y,z) = [x+3*y, y-2*z];\n",
    "S = linear_transformation(RR^3,RR^2,s);\n",
    "S"
   ]
  },
  {
   "cell_type": "code",
   "execution_count": 58,
   "metadata": {},
   "outputs": [
    {
     "data": {
      "text/plain": [
       "(0.986428221243569, -0.581111206690796, 0.482628049688659)"
      ]
     },
     "execution_count": 58,
     "metadata": {},
     "output_type": "execute_result"
    }
   ],
   "source": [
    "v = (RR^3).random_element();v"
   ]
  },
  {
   "cell_type": "code",
   "execution_count": 59,
   "metadata": {},
   "outputs": [
    {
     "data": {
      "text/plain": [
       "(-0.461455927822408, -1.56753942793436, -0.0984831570021367)"
      ]
     },
     "execution_count": 59,
     "metadata": {},
     "output_type": "execute_result"
    }
   ],
   "source": [
    "T(v)"
   ]
  },
  {
   "cell_type": "code",
   "execution_count": 62,
   "metadata": {},
   "outputs": [
    {
     "data": {
      "text/plain": [
       "[ 1.00000000000000 -1.00000000000000 0.000000000000000]\n",
       "[0.000000000000000  1.00000000000000  1.00000000000000]\n",
       "[-3.00000000000000 0.000000000000000  1.00000000000000]"
      ]
     },
     "execution_count": 62,
     "metadata": {},
     "output_type": "execute_result"
    }
   ],
   "source": [
    "T.matrix()"
   ]
  },
  {
   "cell_type": "code",
   "execution_count": 63,
   "metadata": {},
   "outputs": [
    {
     "data": {
      "text/plain": [
       "Vector space of degree 3 and dimension 0 over Real Field with 53 bits of precision\n",
       "Basis matrix:\n",
       "[]"
      ]
     },
     "execution_count": 63,
     "metadata": {},
     "output_type": "execute_result"
    }
   ],
   "source": [
    "N_T = T.kernel(); N_T"
   ]
  },
  {
   "cell_type": "code",
   "execution_count": 64,
   "metadata": {},
   "outputs": [
    {
     "data": {
      "text/plain": [
       "(0.000000000000000, 0.000000000000000, 0.000000000000000)"
      ]
     },
     "execution_count": 64,
     "metadata": {},
     "output_type": "execute_result"
    }
   ],
   "source": [
    "z = N_T.random_element(); z"
   ]
  },
  {
   "cell_type": "code",
   "execution_count": 47,
   "metadata": {},
   "outputs": [
    {
     "data": {
      "text/plain": [
       "(0.000000000000000, 0.000000000000000, 0.000000000000000)"
      ]
     },
     "execution_count": 47,
     "metadata": {},
     "output_type": "execute_result"
    }
   ],
   "source": [
    "T(z)"
   ]
  },
  {
   "cell_type": "code",
   "execution_count": 1,
   "metadata": {},
   "outputs": [
    {
     "data": {
      "text/plain": [
       "Set of Morphisms (Linear Transformations) from Vector space of dimension 2 over Real Field with 53 bits of precision to Vector space of dimension 2 over Real Field with 53 bits of precision"
      ]
     },
     "execution_count": 1,
     "metadata": {},
     "output_type": "execute_result"
    }
   ],
   "source": [
    "LVW = Hom(RR^2, RR^2); LVW"
   ]
  },
  {
   "cell_type": "code",
   "execution_count": 65,
   "metadata": {},
   "outputs": [
    {
     "data": {
      "text/plain": [
       "Vector space morphism represented by the matrix:\n",
       "[ 2.00000000000000 0.000000000000000]\n",
       "[ 1.00000000000000  1.00000000000000]\n",
       "Domain: Vector space of dimension 2 over Real Field with 53 bits of precision\n",
       "Codomain: Vector space of dimension 2 over Real Field with 53 bits of precision"
      ]
     },
     "execution_count": 65,
     "metadata": {},
     "output_type": "execute_result"
    }
   ],
   "source": [
    "f1 = lambda x : vector(RR,[1+x[0],x[1]]); \n",
    "f1 = LVW(f1); f1"
   ]
  },
  {
   "cell_type": "code",
   "execution_count": null,
   "metadata": {},
   "outputs": [],
   "source": []
  }
 ],
 "metadata": {
  "kernelspec": {
   "display_name": "SageMath 9.0",
   "language": "sage",
   "name": "sagemath"
  },
  "language_info": {
   "codemirror_mode": {
    "name": "ipython",
    "version": 3
   },
   "file_extension": ".py",
   "mimetype": "text/x-python",
   "name": "python",
   "nbconvert_exporter": "python",
   "pygments_lexer": "ipython3",
   "version": "3.8.10"
  }
 },
 "nbformat": 4,
 "nbformat_minor": 4
}
